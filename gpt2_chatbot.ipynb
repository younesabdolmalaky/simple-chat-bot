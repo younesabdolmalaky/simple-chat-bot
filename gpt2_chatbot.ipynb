{
  "nbformat": 4,
  "nbformat_minor": 0,
  "metadata": {
    "colab": {
      "provenance": [],
      "authorship_tag": "ABX9TyPpEeRRAkuOcpAs97ZuWjUF",
      "include_colab_link": true
    },
    "kernelspec": {
      "name": "python3",
      "display_name": "Python 3"
    },
    "language_info": {
      "name": "python"
    }
  },
  "cells": [
    {
      "cell_type": "markdown",
      "metadata": {
        "id": "view-in-github",
        "colab_type": "text"
      },
      "source": [
        "<a href=\"https://colab.research.google.com/github/younesabdolmalaky/simple-chat-bot/blob/main/gpt2_chatbot.ipynb\" target=\"_parent\"><img src=\"https://colab.research.google.com/assets/colab-badge.svg\" alt=\"Open In Colab\"/></a>"
      ]
    },
    {
      "cell_type": "code",
      "source": [
        "import torch\n",
        "from transformers import GPT2Tokenizer, GPT2LMHeadModel\n",
        "\n",
        "tokenizer = GPT2Tokenizer.from_pretrained(\"gpt2\")\n",
        "model = GPT2LMHeadModel.from_pretrained(\"gpt2\")\n",
        "\n",
        "model.eval()\n",
        "\n",
        "def chatbot_response(input_text):\n",
        "    input_ids = tokenizer.encode(input_text, return_tensors=\"pt\")\n",
        "\n",
        "    with torch.no_grad():\n",
        "        outputs = model.generate(input_ids, max_length=100, top_p=0.9, top_k=0, eos_token_id=tokenizer.eos_token_id)\n",
        "    \n",
        "    response = tokenizer.decode(outputs[0], skip_special_tokens=True)\n",
        "\n",
        "    return response\n",
        "\n",
        "while True:\n",
        "    input_text = input(\"You: \")\n",
        "    if input_text == \"quit\":\n",
        "        break\n",
        "    response = chatbot_response(input_text)\n",
        "    print(\"Chatbot: \", response)"
      ],
      "metadata": {
        "colab": {
          "base_uri": "https://localhost:8080/"
        },
        "id": "izlIva0ZCo85",
        "outputId": "df2bf8df-2e36-4d63-b2f0-3afcaf9e6c99"
      },
      "execution_count": 19,
      "outputs": [
        {
          "name": "stdout",
          "output_type": "stream",
          "text": [
            "You: hi\n"
          ]
        },
        {
          "output_type": "stream",
          "name": "stderr",
          "text": [
            "The attention mask and the pad token id were not set. As a consequence, you may observe unexpected behavior. Please pass your input's `attention_mask` to obtain reliable results.\n",
            "Setting `pad_token_id` to `eos_token_id`:50256 for open-end generation.\n"
          ]
        },
        {
          "name": "stdout",
          "output_type": "stream",
          "text": [
            "Chatbot:  hi, who was born in the city of Kolkata, was a member of the Kolkata-based Kolkata-based Kolkata-based Kolkata-based Kolkata-based Kolkata-based Kolkata-based Kolkata-based Kolkata-based Kolkata-based Kolkata-based Kolkata-based Kolkata-based Kolkata-based Kolkata-based Kolkata-based Kolk\n",
            "You: quit\n"
          ]
        }
      ]
    },
    {
      "cell_type": "code",
      "source": [],
      "metadata": {
        "id": "ZiYLs_u-CnYD"
      },
      "execution_count": null,
      "outputs": []
    }
  ]
}